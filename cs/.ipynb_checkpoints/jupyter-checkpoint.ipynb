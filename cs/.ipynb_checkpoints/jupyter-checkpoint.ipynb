{
 "cells": [
  {
   "cell_type": "code",
   "execution_count": 1,
   "metadata": {},
   "outputs": [],
   "source": [
    "import pandas as pd"
   ]
  },
  {
   "cell_type": "code",
   "execution_count": 2,
   "metadata": {},
   "outputs": [
    {
     "name": "stdout",
     "output_type": "stream",
     "text": [
      "너의 이름은?석현\n",
      "석현 야, 반갑다.\n"
     ]
    }
   ],
   "source": [
    "your_name = input(\"너의 이름은?\")\n",
    "print(your_name, \"야, 반갑다.\")"
   ]
  },
  {
   "cell_type": "code",
   "execution_count": 3,
   "metadata": {},
   "outputs": [
    {
     "data": {
      "text/plain": [
       "4.0"
      ]
     },
     "execution_count": 3,
     "metadata": {},
     "output_type": "execute_result"
    }
   ],
   "source": [
    "2+2*2/2"
   ]
  },
  {
   "cell_type": "code",
   "execution_count": 20,
   "metadata": {},
   "outputs": [],
   "source": [
    "def reshape_time():\n",
    "    var_1 = input(\"시간을 입력해주세요 : \")\n",
    "    print(\"1시간은 60분 \\n1분은 60초 \\n1시간은?\")\n",
    "    int_var = int(var_1)\n",
    "    print(int_var*60*60, \"초\")"
   ]
  },
  {
   "cell_type": "code",
   "execution_count": 21,
   "metadata": {},
   "outputs": [
    {
     "name": "stdout",
     "output_type": "stream",
     "text": [
      "시간을 입력해주세요 : 1\n",
      "1시간은 60분 \n",
      "1분은 60초 \n",
      "1시간은?\n",
      "3600 초\n"
     ]
    }
   ],
   "source": [
    "reshape_time()"
   ]
  },
  {
   "cell_type": "markdown",
   "metadata": {},
   "source": [
    "### 슬라이싱"
   ]
  },
  {
   "cell_type": "code",
   "execution_count": 24,
   "metadata": {},
   "outputs": [
    {
     "name": "stdout",
     "output_type": "stream",
     "text": [
      "winner\n"
     ]
    }
   ],
   "source": [
    "text = \"winner winner chicken dinner\"\n",
    "\n",
    "print(text[0:6])\n",
    "# 0 <= index < 6"
   ]
  },
  {
   "cell_type": "markdown",
   "metadata": {},
   "source": [
    "### 문지열 나누기(split), 결합(join)"
   ]
  },
  {
   "cell_type": "code",
   "execution_count": 29,
   "metadata": {},
   "outputs": [
    {
     "name": "stdout",
     "output_type": "stream",
     "text": [
      "['파이썬', 'C', 'C++', '컴퓨터구조', '운영체제', '자료구조']\n",
      "파이썬,C,C++,컴퓨터구조,운영체제,자료구조\n"
     ]
    }
   ],
   "source": [
    "text = \"파이썬,C,C++,컴퓨터구조,운영체제,자료구조\"\n",
    "cs_list = text.split(\",\")\n",
    "cs_str = \",\".join(cs_list)\n",
    "\n",
    "print(cs_list)\n",
    "print(cs_str)"
   ]
  },
  {
   "cell_type": "markdown",
   "metadata": {},
   "source": [
    "### 문자열 포맷\n",
    "- string %data\n",
    "- {}.format(변수)"
   ]
  },
  {
   "cell_type": "code",
   "execution_count": 30,
   "metadata": {},
   "outputs": [
    {
     "name": "stdout",
     "output_type": "stream",
     "text": [
      "cs all in one Python\n",
      "cs all in one Python\n"
     ]
    }
   ],
   "source": [
    "python = \"Python\"\n",
    "\n",
    "before = \"cs all in one %s\" % python\n",
    "after = \"cs all in one {}\".format(python)\n",
    "\n",
    "print(before)\n",
    "print(after)"
   ]
  },
  {
   "cell_type": "code",
   "execution_count": 31,
   "metadata": {},
   "outputs": [
    {
     "data": {
      "text/plain": [
       "'**************************************************'"
      ]
     },
     "execution_count": 31,
     "metadata": {},
     "output_type": "execute_result"
    }
   ],
   "source": [
    "str1 = \"*\" * 50\n",
    "str1"
   ]
  },
  {
   "cell_type": "markdown",
   "metadata": {},
   "source": [
    "# Sequence\n",
    "- 순서가 있는 자료형\n",
    "    - 리스트, 튜플, 문자열\n",
    "    \n",
    "    - 시퀀스 타입의 객체들은 인덱스 연산을 통해 내부 항목에 접근 가능\n",
    "    \n",
    "## List\n",
    "- 여러 개의 자료를 하나의 변수로 관리할 때 사용\n",
    "- 자료의 타입이 달라도 다 같이 담을 수 있음\n",
    "- 빈 리스트 생성 가능\n",
    "\n",
    "- 슬라이싱, 추가\n",
    "    - var1.append(\"str\")\n",
    "    - var1.insert(1, \"str\") ... 넣고 싶은 위치 지정\"\n",
    "- 연산\n",
    "    - var1 + var2\n",
    "    - var1.extend(var2)\n",
    "- 삭제\n",
    "    - var1.remove(\"str\")\n",
    "    - del var1[0]\n",
    "- 세기\n",
    "    - 값 세기 : var1.count(value)\n",
    "    - 길이 세기 : len(var1)\n",
    "- 찾기\n",
    "    - 값으로 인덱스 찾기 : var1.index(value)"
   ]
  },
  {
   "cell_type": "markdown",
   "metadata": {},
   "source": [
    "#### 변수 할당"
   ]
  },
  {
   "cell_type": "code",
   "execution_count": 102,
   "metadata": {},
   "outputs": [
    {
     "name": "stdout",
     "output_type": "stream",
     "text": [
      "[1, 2, 3, 4, 5, 6, 7, 8, 9, 10]\n",
      "[7, 5, 6, 8, 6, 8, 0, 6, 10]\n"
     ]
    }
   ],
   "source": [
    "import random\n",
    "\n",
    "var1 = [i for i in range(1, 10 + 1)]\n",
    "var2 = [random.randint(0, 10) for i in range(1, 10)]\n",
    "\n",
    "print(var1)\n",
    "print(var2)"
   ]
  },
  {
   "cell_type": "code",
   "execution_count": 87,
   "metadata": {},
   "outputs": [
    {
     "name": "stdout",
     "output_type": "stream",
     "text": [
      "[1, 2, 3, 4, 5, 6, 7, 8, 9, 10, '우리 규원이']\n"
     ]
    }
   ],
   "source": [
    "var1.append(\"우리 규원이\")\n",
    "print(var1)"
   ]
  },
  {
   "cell_type": "code",
   "execution_count": 88,
   "metadata": {},
   "outputs": [
    {
     "name": "stdout",
     "output_type": "stream",
     "text": [
      "[1, '우리 규원이', 2, 3, 4, 5, 6, 7, 8, 9, 10, '우리 규원이']\n"
     ]
    }
   ],
   "source": [
    "var1.insert(1, \"우리 규원이\")\n",
    "print(var1)"
   ]
  },
  {
   "cell_type": "code",
   "execution_count": 112,
   "metadata": {},
   "outputs": [
    {
     "name": "stdout",
     "output_type": "stream",
     "text": [
      "[2, 3, 4, 5, 6, 7, 8, 9, 10, 7, 5, 6, 8, 6, 8, 0, 6, 10]\n"
     ]
    }
   ],
   "source": [
    "var3 = var1 + var2\n",
    "print(var3)\n",
    "# var1.extend(var2)"
   ]
  },
  {
   "cell_type": "code",
   "execution_count": 104,
   "metadata": {},
   "outputs": [
    {
     "name": "stdout",
     "output_type": "stream",
     "text": [
      "[2, 3, 4, 5, 6, 7, 8, 9, 10]\n"
     ]
    }
   ],
   "source": [
    "del var1[0]\n",
    "print(var1)"
   ]
  },
  {
   "cell_type": "markdown",
   "metadata": {},
   "source": [
    "#### 값 세기"
   ]
  },
  {
   "cell_type": "code",
   "execution_count": 105,
   "metadata": {
    "scrolled": true
   },
   "outputs": [
    {
     "data": {
      "text/plain": [
       "1"
      ]
     },
     "execution_count": 105,
     "metadata": {},
     "output_type": "execute_result"
    }
   ],
   "source": [
    "var2.count(10)"
   ]
  },
  {
   "cell_type": "markdown",
   "metadata": {},
   "source": [
    "#### 길이 세기"
   ]
  },
  {
   "cell_type": "code",
   "execution_count": 106,
   "metadata": {},
   "outputs": [
    {
     "data": {
      "text/plain": [
       "9"
      ]
     },
     "execution_count": 106,
     "metadata": {},
     "output_type": "execute_result"
    }
   ],
   "source": [
    "len(var2)"
   ]
  },
  {
   "cell_type": "markdown",
   "metadata": {},
   "source": [
    "#### 값으로 인덱스 찾기"
   ]
  },
  {
   "cell_type": "code",
   "execution_count": 107,
   "metadata": {},
   "outputs": [
    {
     "name": "stdout",
     "output_type": "stream",
     "text": [
      "8\n",
      "8\n"
     ]
    }
   ],
   "source": [
    "print(var1.index(10))\n",
    "print(var2.index(10)) # 값으로 인덱스 찾기 ... 맨 처음에 발견된 값만 반환, 그 외의 것은?"
   ]
  },
  {
   "cell_type": "markdown",
   "metadata": {},
   "source": [
    "#### 정렬하기"
   ]
  },
  {
   "cell_type": "code",
   "execution_count": 108,
   "metadata": {},
   "outputs": [],
   "source": [
    "var1.sort()"
   ]
  },
  {
   "cell_type": "code",
   "execution_count": 109,
   "metadata": {},
   "outputs": [
    {
     "data": {
      "text/plain": [
       "[2, 3, 4, 5, 6, 7, 8, 9, 10]"
      ]
     },
     "execution_count": 109,
     "metadata": {},
     "output_type": "execute_result"
    }
   ],
   "source": [
    "var1"
   ]
  },
  {
   "cell_type": "code",
   "execution_count": 116,
   "metadata": {},
   "outputs": [
    {
     "data": {
      "text/plain": [
       "[0, 2, 3, 4, 5, 5, 6, 6, 6, 6, 7, 7, 8, 8, 8, 9, 10, 10]"
      ]
     },
     "execution_count": 116,
     "metadata": {},
     "output_type": "execute_result"
    }
   ],
   "source": [
    "sorted(var3)"
   ]
  },
  {
   "cell_type": "code",
   "execution_count": 110,
   "metadata": {},
   "outputs": [],
   "source": [
    "var3.sort()"
   ]
  },
  {
   "cell_type": "code",
   "execution_count": 111,
   "metadata": {},
   "outputs": [
    {
     "data": {
      "text/plain": [
       "[0, 1, 2, 3, 4, 5, 5, 6, 6, 6, 6, 7, 7, 8, 8, 8, 9, 10, 10]"
      ]
     },
     "execution_count": 111,
     "metadata": {},
     "output_type": "execute_result"
    }
   ],
   "source": [
    "var3"
   ]
  },
  {
   "cell_type": "code",
   "execution_count": null,
   "metadata": {},
   "outputs": [],
   "source": []
  },
  {
   "cell_type": "markdown",
   "metadata": {},
   "source": [
    "#### 특정 값들 찾기\n",
    "- 10이라는 값의 위치를 찾고자 하는데, 두 번째 10의 위치를 리턴 시키고자 하면은?"
   ]
  },
  {
   "cell_type": "code",
   "execution_count": 118,
   "metadata": {},
   "outputs": [
    {
     "data": {
      "text/plain": [
       "[2, 3, 4, 5, 6, 7, 8, 9, 10, 7, 5, 6, 8, 6, 8, 0, 6, 10]"
      ]
     },
     "execution_count": 118,
     "metadata": {},
     "output_type": "execute_result"
    }
   ],
   "source": [
    "var3"
   ]
  },
  {
   "cell_type": "code",
   "execution_count": 117,
   "metadata": {},
   "outputs": [
    {
     "data": {
      "text/plain": [
       "8"
      ]
     },
     "execution_count": 117,
     "metadata": {},
     "output_type": "execute_result"
    }
   ],
   "source": [
    "var3.index(10)"
   ]
  },
  {
   "cell_type": "code",
   "execution_count": 119,
   "metadata": {},
   "outputs": [
    {
     "data": {
      "text/plain": [
       "10"
      ]
     },
     "execution_count": 119,
     "metadata": {},
     "output_type": "execute_result"
    }
   ],
   "source": [
    "var3[8]"
   ]
  },
  {
   "cell_type": "code",
   "execution_count": 122,
   "metadata": {},
   "outputs": [],
   "source": [
    "def duplicate_index(input_list, key):\n",
    "    return_list = []\n",
    "    \n",
    "    for index, value in enumerate(input_list):\n",
    "        if value == key:\n",
    "            return_list.append(index)\n",
    "    return return_list"
   ]
  },
  {
   "cell_type": "code",
   "execution_count": 123,
   "metadata": {},
   "outputs": [
    {
     "data": {
      "text/plain": [
       "[8, 17]"
      ]
     },
     "execution_count": 123,
     "metadata": {},
     "output_type": "execute_result"
    }
   ],
   "source": [
    "duplicate_index(var3, 10)"
   ]
  },
  {
   "cell_type": "markdown",
   "metadata": {},
   "source": [
    "## Tuple"
   ]
  },
  {
   "cell_type": "code",
   "execution_count": 124,
   "metadata": {},
   "outputs": [
    {
     "ename": "TypeError",
     "evalue": "'tuple' object doesn't support item deletion",
     "output_type": "error",
     "traceback": [
      "\u001b[0;31m---------------------------------------------------------------------------\u001b[0m",
      "\u001b[0;31mTypeError\u001b[0m                                 Traceback (most recent call last)",
      "\u001b[0;32m<ipython-input-124-9c4e6d23e75a>\u001b[0m in \u001b[0;36m<module>\u001b[0;34m()\u001b[0m\n\u001b[1;32m      1\u001b[0m \u001b[0mcolors\u001b[0m \u001b[0;34m=\u001b[0m \u001b[0;34m(\u001b[0m\u001b[0;34m\"red\"\u001b[0m\u001b[0;34m,\u001b[0m \u001b[0;34m\"blue\"\u001b[0m\u001b[0;34m)\u001b[0m\u001b[0;34m\u001b[0m\u001b[0m\n\u001b[0;32m----> 2\u001b[0;31m \u001b[0;32mdel\u001b[0m \u001b[0mcolors\u001b[0m\u001b[0;34m[\u001b[0m\u001b[0;36m0\u001b[0m\u001b[0;34m]\u001b[0m\u001b[0;34m\u001b[0m\u001b[0m\n\u001b[0m",
      "\u001b[0;31mTypeError\u001b[0m: 'tuple' object doesn't support item deletion"
     ]
    }
   ],
   "source": [
    "colors = (\"red\", \"blue\")\n",
    "del colors[0]"
   ]
  },
  {
   "cell_type": "code",
   "execution_count": 125,
   "metadata": {
    "scrolled": true
   },
   "outputs": [
    {
     "ename": "TypeError",
     "evalue": "'tuple' object does not support item assignment",
     "output_type": "error",
     "traceback": [
      "\u001b[0;31m---------------------------------------------------------------------------\u001b[0m",
      "\u001b[0;31mTypeError\u001b[0m                                 Traceback (most recent call last)",
      "\u001b[0;32m<ipython-input-125-99da8b2b012a>\u001b[0m in \u001b[0;36m<module>\u001b[0;34m()\u001b[0m\n\u001b[0;32m----> 1\u001b[0;31m \u001b[0mcolors\u001b[0m\u001b[0;34m[\u001b[0m\u001b[0;36m1\u001b[0m\u001b[0;34m]\u001b[0m \u001b[0;34m=\u001b[0m \u001b[0;34m\"yellow\"\u001b[0m\u001b[0;34m\u001b[0m\u001b[0m\n\u001b[0m",
      "\u001b[0;31mTypeError\u001b[0m: 'tuple' object does not support item assignment"
     ]
    }
   ],
   "source": [
    "colors[1] = \"yellow\""
   ]
  },
  {
   "cell_type": "markdown",
   "metadata": {},
   "source": [
    "#### 튜플 언패킹"
   ]
  },
  {
   "cell_type": "code",
   "execution_count": 126,
   "metadata": {},
   "outputs": [
    {
     "name": "stdout",
     "output_type": "stream",
     "text": [
      "<class 'tuple'>\n"
     ]
    }
   ],
   "source": [
    "c1 = \"red\"\n",
    "c2 = \"blue\"\n",
    "colors = c1, c2\n",
    "print(type(colors))"
   ]
  },
  {
   "cell_type": "code",
   "execution_count": 129,
   "metadata": {},
   "outputs": [
    {
     "name": "stdout",
     "output_type": "stream",
     "text": [
      "red blue\n",
      "('red', 'blue')\n"
     ]
    }
   ],
   "source": [
    "print(c1, c2)\n",
    "print(colors)"
   ]
  },
  {
   "cell_type": "code",
   "execution_count": 130,
   "metadata": {},
   "outputs": [
    {
     "name": "stdout",
     "output_type": "stream",
     "text": [
      "blue red\n"
     ]
    }
   ],
   "source": [
    "c1, c2 = c2, c1\n",
    "print(c1,c2)"
   ]
  },
  {
   "cell_type": "code",
   "execution_count": 142,
   "metadata": {},
   "outputs": [
    {
     "data": {
      "text/plain": [
       "[1, 4, 3, 5]"
      ]
     },
     "execution_count": 142,
     "metadata": {},
     "output_type": "execute_result"
    }
   ],
   "source": [
    "list1 = [1, 2, 3]\n",
    "list1.append(5)\n",
    "del list1[1]\n",
    "list1.insert(1, 4)\n",
    "list1"
   ]
  },
  {
   "cell_type": "code",
   "execution_count": null,
   "metadata": {},
   "outputs": [],
   "source": [
    "list1 = tuple(list1)\n",
    "list1"
   ]
  },
  {
   "cell_type": "code",
   "execution_count": 136,
   "metadata": {},
   "outputs": [
    {
     "data": {
      "text/plain": [
       "(1, 2, 3)"
      ]
     },
     "execution_count": 136,
     "metadata": {},
     "output_type": "execute_result"
    }
   ],
   "source": [
    "list2 = (1, 2, 3)\n",
    "list2"
   ]
  },
  {
   "cell_type": "code",
   "execution_count": 137,
   "metadata": {},
   "outputs": [
    {
     "data": {
      "text/plain": [
       "(1, 2, 3)"
      ]
     },
     "execution_count": 137,
     "metadata": {},
     "output_type": "execute_result"
    }
   ],
   "source": [
    "list1 = list2\n",
    "list1"
   ]
  },
  {
   "cell_type": "code",
   "execution_count": 162,
   "metadata": {},
   "outputs": [],
   "source": [
    "some_list = [1, 2, 3, 100, 5]\n",
    "\n",
    "def list_update(input_list, key, change_value):\n",
    "    # enumerate 순회한 요소의 순서를 알려줌\n",
    "    for index, value in enumerate(input_list):\n",
    "        # key가 value안에 포함 되는가? 완전일치 하면 True 아니면 False \n",
    "        print(index, value)\n",
    "        if key == value:\n",
    "            input_list[index] = change_value\n",
    "        else:\n",
    "            pass\n",
    "\n",
    "    return input_list"
   ]
  },
  {
   "cell_type": "code",
   "execution_count": 163,
   "metadata": {
    "scrolled": false
   },
   "outputs": [
    {
     "name": "stdout",
     "output_type": "stream",
     "text": [
      "0 1\n",
      "1 2\n",
      "2 3\n",
      "3 100\n",
      "4 5\n"
     ]
    },
    {
     "data": {
      "text/plain": [
       "[1, 2, 3, 10, 5]"
      ]
     },
     "execution_count": 163,
     "metadata": {},
     "output_type": "execute_result"
    }
   ],
   "source": [
    "list_update(some_list, 100, 10)"
   ]
  },
  {
   "cell_type": "markdown",
   "metadata": {},
   "source": [
    "## Dictionary\n",
    "- Key - Value 형태로 항목을 가지는 자료형\n",
    "- 다른 언어에서는 연관배열 또는 해시, 해시맵이라고도 함\n",
    "\n",
    "특징\n",
    "- 순서가 없음\n",
    "- key는 중복이 불가능\n",
    "- 항목 추가/변경이 가능"
   ]
  },
  {
   "cell_type": "code",
   "execution_count": 165,
   "metadata": {},
   "outputs": [
    {
     "name": "stdout",
     "output_type": "stream",
     "text": [
      "<class 'list'>\n",
      "[['name', '장석현'], ['age', '31'], ['job', 'data-analyst']]\n",
      "<class 'dict'>\n",
      "{'name': '장석현', 'age': '31', 'job': 'data-analyst'}\n"
     ]
    }
   ],
   "source": [
    "sample_list = [['name', \"장석현\"], [\"age\", \"31\"], [\"job\", \"data-analyst\"]]\n",
    "sample_dict = dict(sample_list)\n",
    "\n",
    "print(type(sample_list))\n",
    "print(sample_list)\n",
    "\n",
    "print(type(sample_dict))\n",
    "print(sample_dict)"
   ]
  },
  {
   "cell_type": "code",
   "execution_count": 166,
   "metadata": {},
   "outputs": [
    {
     "data": {
      "text/plain": [
       "{'name': 'Andrew', 'age': '31', 'job': 'data-analyst', 'nickname': 'verbena'}"
      ]
     },
     "execution_count": 166,
     "metadata": {},
     "output_type": "execute_result"
    }
   ],
   "source": [
    "sample_dict[\"nickname\"] = \"verbena\"\n",
    "sample_dict[\"name\"] = \"Andrew\"\n",
    "\n",
    "sample_dict"
   ]
  },
  {
   "cell_type": "code",
   "execution_count": 175,
   "metadata": {},
   "outputs": [],
   "source": [
    "sample_dict_2 = {\"job\": \"data-engineer\"}\n",
    "# sample_dict_2 = dict([[\"job\", \"data-engineer\"]])\n",
    "sample_dict_3 = {}"
   ]
  },
  {
   "cell_type": "code",
   "execution_count": 176,
   "metadata": {},
   "outputs": [
    {
     "data": {
      "text/plain": [
       "{'name': 'Andrew', 'age': '31', 'job': 'data-analyst', 'nickname': 'verbena'}"
      ]
     },
     "execution_count": 176,
     "metadata": {},
     "output_type": "execute_result"
    }
   ],
   "source": [
    "sample_dict_3.update(sample_dict)\n",
    "sample_dict_3"
   ]
  },
  {
   "cell_type": "code",
   "execution_count": 177,
   "metadata": {},
   "outputs": [
    {
     "data": {
      "text/plain": [
       "{'name': 'Andrew', 'age': '31', 'job': 'data-engineer', 'nickname': 'verbena'}"
      ]
     },
     "execution_count": 177,
     "metadata": {},
     "output_type": "execute_result"
    }
   ],
   "source": [
    "sample_dict_3.update(sample_dict_2)\n",
    "sample_dict_3"
   ]
  },
  {
   "cell_type": "markdown",
   "metadata": {},
   "source": [
    "## Set"
   ]
  },
  {
   "cell_type": "code",
   "execution_count": 189,
   "metadata": {},
   "outputs": [
    {
     "name": "stdout",
     "output_type": "stream",
     "text": [
      "answer : {11, 12}\n"
     ]
    }
   ],
   "source": [
    "list1 = [i for i in range(1, 10+1)]\n",
    "dict1 = dict([[1, 1], [2, 2], [11, 11], [12, 12]])\n",
    "\n",
    "answer = dict1.keys() - set(list1)\n",
    "\n",
    "print(\"answer : {}\".format(answer))"
   ]
  },
  {
   "cell_type": "markdown",
   "metadata": {},
   "source": [
    "## For"
   ]
  },
  {
   "cell_type": "code",
   "execution_count": 197,
   "metadata": {},
   "outputs": [
    {
     "name": "stdout",
     "output_type": "stream",
     "text": [
      "name Andrew\n",
      "age 31\n",
      "job Data Engineer\n"
     ]
    }
   ],
   "source": [
    "info_dict = {\"name\": \"Andrew\", \"age\": \"31\", \"job\": \"Data Engineer\"}\n",
    "for info_key, info_val in info_dict.items():\n",
    "    print(info_key, info_val)"
   ]
  },
  {
   "cell_type": "code",
   "execution_count": 202,
   "metadata": {
    "scrolled": true
   },
   "outputs": [
    {
     "name": "stdout",
     "output_type": "stream",
     "text": [
      "1*1=1\n",
      "1*2=2\n",
      "1*3=3\n",
      "1*4=4\n",
      "1*5=5\n",
      "1*6=6\n",
      "1*7=7\n",
      "1*8=8\n",
      "1*9=9\n",
      "==================================================\n",
      "2*1=2\n",
      "2*2=4\n",
      "2*3=6\n",
      "2*4=8\n",
      "2*5=10\n",
      "2*6=12\n",
      "2*7=14\n",
      "2*8=16\n",
      "2*9=18\n",
      "==================================================\n",
      "3*1=3\n",
      "3*2=6\n",
      "3*3=9\n",
      "3*4=12\n",
      "3*5=15\n",
      "3*6=18\n",
      "3*7=21\n",
      "3*8=24\n",
      "3*9=27\n",
      "==================================================\n",
      "4*1=4\n",
      "4*2=8\n",
      "4*3=12\n",
      "4*4=16\n",
      "4*5=20\n",
      "4*6=24\n",
      "4*7=28\n",
      "4*8=32\n",
      "4*9=36\n",
      "==================================================\n",
      "5*1=5\n",
      "5*2=10\n",
      "5*3=15\n",
      "5*4=20\n",
      "5*5=25\n",
      "5*6=30\n",
      "5*7=35\n",
      "5*8=40\n",
      "5*9=45\n",
      "==================================================\n",
      "6*1=6\n",
      "6*2=12\n",
      "6*3=18\n",
      "6*4=24\n",
      "6*5=30\n",
      "6*6=36\n",
      "6*7=42\n",
      "6*8=48\n",
      "6*9=54\n",
      "==================================================\n",
      "7*1=7\n",
      "7*2=14\n",
      "7*3=21\n",
      "7*4=28\n",
      "7*5=35\n",
      "7*6=42\n",
      "7*7=49\n",
      "7*8=56\n",
      "7*9=63\n",
      "==================================================\n",
      "8*1=8\n",
      "8*2=16\n",
      "8*3=24\n",
      "8*4=32\n",
      "8*5=40\n",
      "8*6=48\n",
      "8*7=56\n",
      "8*8=64\n",
      "8*9=72\n",
      "==================================================\n",
      "9*1=9\n",
      "9*2=18\n",
      "9*3=27\n",
      "9*4=36\n",
      "9*5=45\n",
      "9*6=54\n",
      "9*7=63\n",
      "9*8=72\n",
      "9*9=81\n",
      "==================================================\n"
     ]
    }
   ],
   "source": [
    "for i in range(1, 9+1):\n",
    "    for j in range(1, 9+1):\n",
    "#         print(i,'*',j, \"=\", i*j)\n",
    "        print(\"{}*{}={}\".format(i, j, i*j))\n",
    "    print(\"=\"*50)"
   ]
  },
  {
   "cell_type": "markdown",
   "metadata": {},
   "source": [
    "## While"
   ]
  },
  {
   "cell_type": "code",
   "execution_count": 203,
   "metadata": {
    "scrolled": true
   },
   "outputs": [
    {
     "name": "stdout",
     "output_type": "stream",
     "text": [
      "1단\n",
      "1*1=1\n",
      "1*2=2\n",
      "1*3=3\n",
      "1*4=4\n",
      "1*5=5\n",
      "1*6=6\n",
      "1*7=7\n",
      "1*8=8\n",
      "1*9=9\n",
      "2단\n",
      "2*1=2\n",
      "2*2=4\n",
      "2*3=6\n",
      "2*4=8\n",
      "2*5=10\n",
      "2*6=12\n",
      "2*7=14\n",
      "2*8=16\n",
      "2*9=18\n",
      "3단\n",
      "3*1=3\n",
      "3*2=6\n",
      "3*3=9\n",
      "3*4=12\n",
      "3*5=15\n",
      "3*6=18\n",
      "3*7=21\n",
      "3*8=24\n",
      "3*9=27\n",
      "4단\n",
      "4*1=4\n",
      "4*2=8\n",
      "4*3=12\n",
      "4*4=16\n",
      "4*5=20\n",
      "4*6=24\n",
      "4*7=28\n",
      "4*8=32\n",
      "4*9=36\n",
      "5단\n",
      "5*1=5\n",
      "5*2=10\n",
      "5*3=15\n",
      "5*4=20\n",
      "5*5=25\n",
      "5*6=30\n",
      "5*7=35\n",
      "5*8=40\n",
      "5*9=45\n",
      "6단\n",
      "6*1=6\n",
      "6*2=12\n",
      "6*3=18\n",
      "6*4=24\n",
      "6*5=30\n",
      "6*6=36\n",
      "6*7=42\n",
      "6*8=48\n",
      "6*9=54\n",
      "7단\n",
      "7*1=7\n",
      "7*2=14\n",
      "7*3=21\n",
      "7*4=28\n",
      "7*5=35\n",
      "7*6=42\n",
      "7*7=49\n",
      "7*8=56\n",
      "7*9=63\n",
      "8단\n",
      "8*1=8\n",
      "8*2=16\n",
      "8*3=24\n",
      "8*4=32\n",
      "8*5=40\n",
      "8*6=48\n",
      "8*7=56\n",
      "8*8=64\n",
      "8*9=72\n",
      "9단\n",
      "9*1=9\n",
      "9*2=18\n",
      "9*3=27\n",
      "9*4=36\n",
      "9*5=45\n",
      "9*6=54\n",
      "9*7=63\n",
      "9*8=72\n",
      "9*9=81\n"
     ]
    }
   ],
   "source": [
    "cnt = 1\n",
    "while cnt <= 9:\n",
    "    cnt2 = 1\n",
    "    print(\"{}단\".format(cnt))\n",
    "    while cnt2 <= 9:\n",
    "        print(\"{}*{}={}\".format(cnt, cnt2, cnt*cnt2))\n",
    "        cnt2 += 1\n",
    "    cnt += 1"
   ]
  },
  {
   "cell_type": "code",
   "execution_count": 208,
   "metadata": {},
   "outputs": [
    {
     "data": {
      "text/plain": [
       "{1: 'one',\n",
       " 2: 'two',\n",
       " 3: 'three',\n",
       " 4: 'four',\n",
       " 5: 'five',\n",
       " 6: 'six',\n",
       " 7: 'seven',\n",
       " 8: 'eight',\n",
       " 9: 'nine',\n",
       " 10: 'ten'}"
      ]
     },
     "execution_count": 208,
     "metadata": {},
     "output_type": "execute_result"
    }
   ],
   "source": [
    "# list1 = [i for i in range(1, 10+1)]\n",
    "list1 = list(range(1, 10+1))\n",
    "list2 = [\"one\", \"two\", \"three\", \"four\", \"five\", \"six\", \"seven\", \"eight\", \"nine\", \"ten\"]\n",
    "\n",
    "dict(list(zip(list1, list2)))"
   ]
  },
  {
   "cell_type": "code",
   "execution_count": 209,
   "metadata": {},
   "outputs": [
    {
     "data": {
      "text/plain": [
       "{1: 'one',\n",
       " 2: 'two',\n",
       " 3: 'three',\n",
       " 4: 'four',\n",
       " 5: 'five',\n",
       " 6: 'six',\n",
       " 7: 'seven',\n",
       " 8: 'eight',\n",
       " 9: 'nine',\n",
       " 10: 'ten'}"
      ]
     },
     "execution_count": 209,
     "metadata": {},
     "output_type": "execute_result"
    }
   ],
   "source": [
    "{k:v for k, v in zip(list1, list2)}"
   ]
  },
  {
   "cell_type": "code",
   "execution_count": 210,
   "metadata": {
    "scrolled": true
   },
   "outputs": [
    {
     "data": {
      "text/plain": [
       "['1*1=1',\n",
       " '1*2=2',\n",
       " '1*3=3',\n",
       " '1*4=4',\n",
       " '1*5=5',\n",
       " '1*6=6',\n",
       " '1*7=7',\n",
       " '1*8=8',\n",
       " '1*9=9',\n",
       " '2*1=2',\n",
       " '2*2=4',\n",
       " '2*3=6',\n",
       " '2*4=8',\n",
       " '2*5=10',\n",
       " '2*6=12',\n",
       " '2*7=14',\n",
       " '2*8=16',\n",
       " '2*9=18',\n",
       " '3*1=3',\n",
       " '3*2=6',\n",
       " '3*3=9',\n",
       " '3*4=12',\n",
       " '3*5=15',\n",
       " '3*6=18',\n",
       " '3*7=21',\n",
       " '3*8=24',\n",
       " '3*9=27',\n",
       " '4*1=4',\n",
       " '4*2=8',\n",
       " '4*3=12',\n",
       " '4*4=16',\n",
       " '4*5=20',\n",
       " '4*6=24',\n",
       " '4*7=28',\n",
       " '4*8=32',\n",
       " '4*9=36',\n",
       " '5*1=5',\n",
       " '5*2=10',\n",
       " '5*3=15',\n",
       " '5*4=20',\n",
       " '5*5=25',\n",
       " '5*6=30',\n",
       " '5*7=35',\n",
       " '5*8=40',\n",
       " '5*9=45',\n",
       " '6*1=6',\n",
       " '6*2=12',\n",
       " '6*3=18',\n",
       " '6*4=24',\n",
       " '6*5=30',\n",
       " '6*6=36',\n",
       " '6*7=42',\n",
       " '6*8=48',\n",
       " '6*9=54',\n",
       " '7*1=7',\n",
       " '7*2=14',\n",
       " '7*3=21',\n",
       " '7*4=28',\n",
       " '7*5=35',\n",
       " '7*6=42',\n",
       " '7*7=49',\n",
       " '7*8=56',\n",
       " '7*9=63',\n",
       " '8*1=8',\n",
       " '8*2=16',\n",
       " '8*3=24',\n",
       " '8*4=32',\n",
       " '8*5=40',\n",
       " '8*6=48',\n",
       " '8*7=56',\n",
       " '8*8=64',\n",
       " '8*9=72',\n",
       " '9*1=9',\n",
       " '9*2=18',\n",
       " '9*3=27',\n",
       " '9*4=36',\n",
       " '9*5=45',\n",
       " '9*6=54',\n",
       " '9*7=63',\n",
       " '9*8=72',\n",
       " '9*9=81']"
      ]
     },
     "execution_count": 210,
     "metadata": {},
     "output_type": "execute_result"
    }
   ],
   "source": [
    "gugu_list = [\"{}*{}={}\".format(i, j, i*j) for i in range(1, 9+1) for j in range(1, 9+1)]\n",
    "gugu_list"
   ]
  },
  {
   "cell_type": "code",
   "execution_count": 212,
   "metadata": {
    "scrolled": true
   },
   "outputs": [
    {
     "name": "stdout",
     "output_type": "stream",
     "text": [
      "1\n",
      "2\n",
      "3  Fizz!\n",
      "4\n",
      "5  Buzz!\n",
      "6  Fizz!\n",
      "7\n",
      "8\n",
      "9  Fizz!\n",
      "10  Buzz!\n",
      "11\n",
      "12  Fizz!\n",
      "13\n",
      "14\n",
      "15  FizzBuzz!\n",
      "16\n",
      "17\n",
      "18  Fizz!\n",
      "19\n",
      "20  Buzz!\n",
      "21  Fizz!\n",
      "22\n",
      "23\n",
      "24  Fizz!\n",
      "25  Buzz!\n",
      "26\n",
      "27  Fizz!\n",
      "28\n",
      "29\n",
      "30  FizzBuzz!\n",
      "31\n",
      "32\n",
      "33  Fizz!\n",
      "34\n",
      "35  Buzz!\n",
      "36  Fizz!\n",
      "37\n",
      "38\n",
      "39  Fizz!\n",
      "40  Buzz!\n",
      "41\n",
      "42  Fizz!\n",
      "43\n",
      "44\n",
      "45  FizzBuzz!\n",
      "46\n",
      "47\n",
      "48  Fizz!\n",
      "49\n",
      "50  Buzz!\n",
      "51  Fizz!\n",
      "52\n",
      "53\n",
      "54  Fizz!\n",
      "55  Buzz!\n",
      "56\n",
      "57  Fizz!\n",
      "58\n",
      "59\n",
      "60  FizzBuzz!\n",
      "61\n",
      "62\n",
      "63  Fizz!\n",
      "64\n",
      "65  Buzz!\n",
      "66  Fizz!\n",
      "67\n",
      "68\n",
      "69  Fizz!\n",
      "70  Buzz!\n",
      "71\n",
      "72  Fizz!\n",
      "73\n",
      "74\n",
      "75  FizzBuzz!\n",
      "76\n",
      "77\n",
      "78  Fizz!\n",
      "79\n",
      "80  Buzz!\n",
      "81  Fizz!\n",
      "82\n",
      "83\n",
      "84  Fizz!\n",
      "85  Buzz!\n",
      "86\n",
      "87  Fizz!\n",
      "88\n",
      "89\n",
      "90  FizzBuzz!\n",
      "91\n",
      "92\n",
      "93  Fizz!\n",
      "94\n",
      "95  Buzz!\n",
      "96  Fizz!\n",
      "97\n",
      "98\n",
      "99  Fizz!\n",
      "100  Buzz!\n"
     ]
    }
   ],
   "source": [
    "for i in range(1, 100 + 1):\n",
    "    # print(i)\n",
    "    if i % 15 == 0:\n",
    "        print(i, \" FizzBuzz!\")\n",
    "    elif i % 3 == 0:\n",
    "        print(i, \" Fizz!\")\n",
    "    elif i % 5 == 0:\n",
    "        print(i, \" Buzz!\")\n",
    "    else:\n",
    "        print(i)"
   ]
  },
  {
   "cell_type": "markdown",
   "metadata": {},
   "source": [
    "### Generator"
   ]
  },
  {
   "cell_type": "code",
   "execution_count": 224,
   "metadata": {},
   "outputs": [
    {
     "name": "stdout",
     "output_type": "stream",
     "text": [
      "<class 'generator'>\n",
      "<generator object <genexpr> at 0x110fc9bf8>\n"
     ]
    }
   ],
   "source": [
    "gen = (i for i in range(1, 5 + 1))\n",
    "print(type(gen))\n",
    "print(gen)"
   ]
  },
  {
   "cell_type": "code",
   "execution_count": 225,
   "metadata": {},
   "outputs": [
    {
     "name": "stdout",
     "output_type": "stream",
     "text": [
      "1\n",
      "2\n",
      "3\n",
      "4\n",
      "5\n"
     ]
    },
    {
     "ename": "StopIteration",
     "evalue": "",
     "output_type": "error",
     "traceback": [
      "\u001b[0;31m---------------------------------------------------------------------------\u001b[0m",
      "\u001b[0;31mStopIteration\u001b[0m                             Traceback (most recent call last)",
      "\u001b[0;32m<ipython-input-225-080b96b78394>\u001b[0m in \u001b[0;36m<module>\u001b[0;34m()\u001b[0m\n\u001b[1;32m      4\u001b[0m \u001b[0mprint\u001b[0m\u001b[0;34m(\u001b[0m\u001b[0mnext\u001b[0m\u001b[0;34m(\u001b[0m\u001b[0mgen\u001b[0m\u001b[0;34m)\u001b[0m\u001b[0;34m)\u001b[0m\u001b[0;34m\u001b[0m\u001b[0m\n\u001b[1;32m      5\u001b[0m \u001b[0mprint\u001b[0m\u001b[0;34m(\u001b[0m\u001b[0mnext\u001b[0m\u001b[0;34m(\u001b[0m\u001b[0mgen\u001b[0m\u001b[0;34m)\u001b[0m\u001b[0;34m)\u001b[0m\u001b[0;34m\u001b[0m\u001b[0m\n\u001b[0;32m----> 6\u001b[0;31m \u001b[0mprint\u001b[0m\u001b[0;34m(\u001b[0m\u001b[0mnext\u001b[0m\u001b[0;34m(\u001b[0m\u001b[0mgen\u001b[0m\u001b[0;34m)\u001b[0m\u001b[0;34m)\u001b[0m\u001b[0;34m\u001b[0m\u001b[0m\n\u001b[0m",
      "\u001b[0;31mStopIteration\u001b[0m: "
     ]
    }
   ],
   "source": [
    "print(next(gen))\n",
    "print(next(gen))\n",
    "print(next(gen))\n",
    "print(next(gen))\n",
    "print(next(gen))\n",
    "print(next(gen))"
   ]
  },
  {
   "cell_type": "markdown",
   "metadata": {},
   "source": [
    "## def function"
   ]
  },
  {
   "cell_type": "code",
   "execution_count": 243,
   "metadata": {},
   "outputs": [],
   "source": [
    "import random\n",
    "\n",
    "def numguess(try_cnt):\n",
    "    answer = random.randint(1, 100)\n",
    "    print(answer)\n",
    "    \n",
    "    while True:\n",
    "        if try_cnt == 0:\n",
    "            print(\"기회를 모두 소진했습니다. 정답은{}입니다.\".format(answer))\n",
    "            break\n",
    "            \n",
    "        your_answer = int(input(\"Guess Number : \"))\n",
    "        \n",
    "        if answer == your_answer:\n",
    "            print(\"정답입니다. 정답은{}이고, {}번 만에 맞추셨습니다.\".format(answer, 5-try_cnt+1))\n",
    "            break\n",
    "        elif your_answer > answer and try_cnt > 0:\n",
    "            try_cnt -= 1\n",
    "            print(\"정답은 {}보다 작습니다. 기회는 {}번 남았습니다.\".format(your_answer, try_cnt))\n",
    "\n",
    "\n",
    "        elif your_answer < answer and try_cnt > 0:\n",
    "            try_cnt -= 1\n",
    "            print(\"정답은 {}보다 큽니다. 기회는 {}번 남았습니다.\".format(your_answer, try_cnt))\n",
    "        "
   ]
  },
  {
   "cell_type": "code",
   "execution_count": 244,
   "metadata": {},
   "outputs": [
    {
     "name": "stdout",
     "output_type": "stream",
     "text": [
      "5\n",
      "Guess Number : 10\n",
      "정답은 10보다 작습니다. 기회는 4번 남았습니다.\n",
      "Guess Number : 5\n",
      "정답입니다. 정답은5이고, 2번 만에 맞추셨습니다.\n"
     ]
    }
   ],
   "source": [
    "numguess(5)"
   ]
  },
  {
   "cell_type": "markdown",
   "metadata": {},
   "source": [
    "#### 가변 위치 인자 (*)"
   ]
  },
  {
   "cell_type": "code",
   "execution_count": 245,
   "metadata": {},
   "outputs": [],
   "source": [
    "def exam_arg(*args):\n",
    "    print(args)\n",
    "    print(args[1])\n",
    "    print(type(args))"
   ]
  },
  {
   "cell_type": "code",
   "execution_count": 246,
   "metadata": {},
   "outputs": [
    {
     "name": "stdout",
     "output_type": "stream",
     "text": [
      "('text', '출력', 123)\n",
      "출력\n",
      "<class 'tuple'>\n"
     ]
    }
   ],
   "source": [
    "exam_arg(\"text\", \"출력\", 123)"
   ]
  },
  {
   "cell_type": "markdown",
   "metadata": {},
   "source": [
    "#### 가변 키워드 인자 (**)"
   ]
  },
  {
   "cell_type": "code",
   "execution_count": 247,
   "metadata": {},
   "outputs": [
    {
     "name": "stdout",
     "output_type": "stream",
     "text": [
      "{'key': 'test', 'word': '출력', 'args': 123}\n",
      "<class 'dict'>\n"
     ]
    }
   ],
   "source": [
    "def exam_arg(**kwargs):\n",
    "    print(kwargs)\n",
    "    print(type(kwargs))\n",
    "    \n",
    "exam_arg(key='test', word='출력', args=123)"
   ]
  },
  {
   "cell_type": "code",
   "execution_count": 248,
   "metadata": {},
   "outputs": [
    {
     "name": "stdout",
     "output_type": "stream",
     "text": [
      "print(value, ..., sep=' ', end='\\n', file=sys.stdout, flush=False)\n",
      "\n",
      "Prints the values to a stream, or to sys.stdout by default.\n",
      "Optional keyword arguments:\n",
      "file:  a file-like object (stream); defaults to the current sys.stdout.\n",
      "sep:   string inserted between values, default a space.\n",
      "end:   string appended after the last value, default a newline.\n",
      "flush: whether to forcibly flush the stream.\n"
     ]
    }
   ],
   "source": [
    "print(print.__doc__)"
   ]
  },
  {
   "cell_type": "markdown",
   "metadata": {},
   "source": [
    "### Lambda Expression"
   ]
  },
  {
   "cell_type": "code",
   "execution_count": 249,
   "metadata": {},
   "outputs": [
    {
     "data": {
      "text/plain": [
       "<function __main__.<lambda>(a, b)>"
      ]
     },
     "execution_count": 249,
     "metadata": {},
     "output_type": "execute_result"
    }
   ],
   "source": [
    "def awesum(a, b):\n",
    "    return a + b\n",
    "\n",
    "lambda a, b: a + b"
   ]
  },
  {
   "cell_type": "code",
   "execution_count": 251,
   "metadata": {},
   "outputs": [
    {
     "data": {
      "text/plain": [
       "<function __main__.<lambda>(a, b)>"
      ]
     },
     "execution_count": 251,
     "metadata": {},
     "output_type": "execute_result"
    }
   ],
   "source": [
    "lambda a, b: a + b"
   ]
  },
  {
   "cell_type": "code",
   "execution_count": 254,
   "metadata": {},
   "outputs": [
    {
     "name": "stdout",
     "output_type": "stream",
     "text": [
      "[2, 4, 6, 8, 10, 12, 14, 16, 18, 20]\n"
     ]
    }
   ],
   "source": [
    "some_list = list(range(1, 10 + 1))\n",
    "result = list(map(lambda x: x*2, some_list))\n",
    "print(result)"
   ]
  },
  {
   "cell_type": "code",
   "execution_count": null,
   "metadata": {},
   "outputs": [],
   "source": []
  },
  {
   "cell_type": "code",
   "execution_count": 257,
   "metadata": {},
   "outputs": [
    {
     "name": "stdout",
     "output_type": "stream",
     "text": [
      "['1', 'one']\n"
     ]
    }
   ],
   "source": [
    "some_list = [1, \"1\", \"one\", 4.567, {1:\"one\"}]\n",
    "\n",
    "result = list(filter(lambda x: x == str(x), some_list))\n",
    "print(result)"
   ]
  },
  {
   "cell_type": "code",
   "execution_count": 259,
   "metadata": {},
   "outputs": [
    {
     "name": "stdout",
     "output_type": "stream",
     "text": [
      "['1', 'one']\n"
     ]
    }
   ],
   "source": [
    "result = list(filter(lambda x: isinstance(x, str), some_list))\n",
    "print(result)"
   ]
  },
  {
   "cell_type": "markdown",
   "metadata": {},
   "source": [
    "### Recursive Function\n",
    "- 함수 안에서 함수 자기자신을 호출하는 방식을 재귀호출(recursive call)이라고 한다.\n",
    "\n",
    "- 재귀조건\n",
    "- 탈출조건"
   ]
  },
  {
   "cell_type": "code",
   "execution_count": 5,
   "metadata": {},
   "outputs": [
    {
     "data": {
      "text/plain": [
       "5"
      ]
     },
     "execution_count": 5,
     "metadata": {},
     "output_type": "execute_result"
    }
   ],
   "source": [
    "def fibo(n):\n",
    "    if n <= 2:\n",
    "        return 1 # 탈출 조건\n",
    "    else:\n",
    "        return fibo(n-1) + fibo(n-2) # 재귀 조건\n",
    "fibo(5)"
   ]
  },
  {
   "cell_type": "code",
   "execution_count": 6,
   "metadata": {},
   "outputs": [
    {
     "data": {
      "text/plain": [
       "55"
      ]
     },
     "execution_count": 6,
     "metadata": {},
     "output_type": "execute_result"
    }
   ],
   "source": [
    "fibo(10)"
   ]
  },
  {
   "cell_type": "code",
   "execution_count": null,
   "metadata": {},
   "outputs": [],
   "source": [
    "def fibo(n):\n",
    "    a = 0\n",
    "    b = 1\n",
    "    y = 0\n",
    "    \n",
    "    for _ in range(n):\n",
    "        y = a + b\n",
    "        a = b\n",
    "        b = y\n",
    "\n",
    "    return y"
   ]
  },
  {
   "cell_type": "code",
   "execution_count": 4,
   "metadata": {},
   "outputs": [
    {
     "data": {
      "text/plain": [
       "89"
      ]
     },
     "execution_count": 4,
     "metadata": {},
     "output_type": "execute_result"
    }
   ],
   "source": [
    "fibo(10)"
   ]
  },
  {
   "cell_type": "markdown",
   "metadata": {},
   "source": [
    "- 재귀호출을 예외처리할 때 사용"
   ]
  },
  {
   "cell_type": "code",
   "execution_count": 2,
   "metadata": {},
   "outputs": [
    {
     "name": "stdout",
     "output_type": "stream",
     "text": [
      "99\n",
      "Guess Number : 100\n",
      "정답은 100보다 작습니다. 기회는 4번 남았습니다.\n",
      "Guess Number : 80\n",
      "정답은 80보다 큽니다. 기회는 3번 남았습니다.\n",
      "Guess Number : 99\n",
      "정답입니다. 정답은99이고, 3번 만에 맞추셨습니다.\n"
     ]
    }
   ],
   "source": [
    "import random\n",
    "\n",
    "def numguess(try_cnt=5, answer=random.randint(1, 100)):\n",
    "    print(answer)\n",
    "    \n",
    "    while True:\n",
    "        if try_cnt == 0:\n",
    "            print(\"기회를 모두 소진했습니다. 정답은{}입니다.\".format(answer))\n",
    "            break\n",
    "            \n",
    "        your_input = input_answer()\n",
    "        if answer == your_input:\n",
    "            print(\"정답입니다. 정답은{}이고, {}번 만에 맞추셨습니다.\".format(answer, 5-try_cnt+1))\n",
    "            break\n",
    "        elif your_input > answer and try_cnt > 0:\n",
    "            try_cnt -= 1\n",
    "            print(\"정답은 {}보다 작습니다. 기회는 {}번 남았습니다.\".format(your_input, try_cnt))\n",
    "        elif your_input < answer and try_cnt > 0:\n",
    "            try_cnt -= 1\n",
    "            print(\"정답은 {}보다 큽니다. 기회는 {}번 남았습니다.\".format(your_input, try_cnt))\n",
    "        \n",
    "\n",
    "def input_answer():\n",
    "    try:\n",
    "        your_input = int(input(\"Guess Number : \"))\n",
    "        return your_input\n",
    "    except:\n",
    "        return input_answer()\n",
    "    \n",
    "numguess()"
   ]
  },
  {
   "cell_type": "code",
   "execution_count": null,
   "metadata": {},
   "outputs": [],
   "source": []
  },
  {
   "cell_type": "markdown",
   "metadata": {},
   "source": [
    "## Class\n",
    "- 불편함을 해결하기 위해 탄생한 객체지향 프로그래밍\n",
    "- 객체지향 프로그래밍이란 객체(object) 단위로 데이터와 기능(function)을 하나로 묶어 쓰는 방식\n",
    "\n",
    "- Class란?\n",
    "    - 속성(attribute)과 동작(method)를 갖는 데이터 타입\n",
    "    - attribute : 클래스 내부에서 선언된 변수\n",
    "    - method : 클래스 내부에서 선언된 함수"
   ]
  },
  {
   "cell_type": "code",
   "execution_count": 18,
   "metadata": {},
   "outputs": [],
   "source": [
    "class MySon:\n",
    "    description = \"귀여운 내 새끼\"\n",
    "    def __init__(self, name, age, kind, distinct, speak):\n",
    "        self.name = name\n",
    "        self.age = age\n",
    "        self.kind = kind\n",
    "        self.distinct = distinct\n",
    "        self.speak = speak\n",
    "        self.bark()\n",
    "        \n",
    "    def bark(self):\n",
    "        print(self.speak)"
   ]
  },
  {
   "cell_type": "code",
   "execution_count": 19,
   "metadata": {},
   "outputs": [
    {
     "name": "stdout",
     "output_type": "stream",
     "text": [
      "멍멍\n",
      "낑낑\n",
      "야옹\n"
     ]
    }
   ],
   "source": [
    "bokgil = MySon(\"복길\", \"Unkown\", \"Unkown\", \"사람을 좋아함\", \"멍멍\")\n",
    "chapssal = MySon(\"찹쌀\", \"20day\", \"mix\", \"cute\", \"낑낑\")\n",
    "colud = MySon(\"구름\", \"6month\", \"mix\", \"very cute\", \"야옹\")"
   ]
  },
  {
   "cell_type": "code",
   "execution_count": 20,
   "metadata": {},
   "outputs": [
    {
     "name": "stdout",
     "output_type": "stream",
     "text": [
      "멍멍\n"
     ]
    }
   ],
   "source": [
    "bokgil.bark()"
   ]
  },
  {
   "cell_type": "code",
   "execution_count": 21,
   "metadata": {
    "scrolled": true
   },
   "outputs": [
    {
     "name": "stdout",
     "output_type": "stream",
     "text": [
      "낑낑\n"
     ]
    }
   ],
   "source": [
    "chapssal.bark()"
   ]
  },
  {
   "cell_type": "code",
   "execution_count": 22,
   "metadata": {},
   "outputs": [
    {
     "name": "stdout",
     "output_type": "stream",
     "text": [
      "야옹\n"
     ]
    }
   ],
   "source": [
    "colud.bark()"
   ]
  },
  {
   "cell_type": "code",
   "execution_count": 25,
   "metadata": {},
   "outputs": [
    {
     "name": "stdout",
     "output_type": "stream",
     "text": [
      "야옹\n"
     ]
    }
   ],
   "source": [
    "cloud = MySon(\"구름\", \"6month\", \"mix\", \"very cute\", \"야옹\")"
   ]
  },
  {
   "cell_type": "code",
   "execution_count": 28,
   "metadata": {},
   "outputs": [
    {
     "name": "stdout",
     "output_type": "stream",
     "text": [
      "구름\n",
      "6month\n",
      "야옹\n"
     ]
    }
   ],
   "source": [
    "print(cloud.name)\n",
    "print(cloud.age)\n",
    "cloud.bark()"
   ]
  },
  {
   "cell_type": "code",
   "execution_count": 29,
   "metadata": {},
   "outputs": [
    {
     "data": {
      "text/plain": [
       "'귀여운 내 새끼'"
      ]
     },
     "execution_count": 29,
     "metadata": {},
     "output_type": "execute_result"
    }
   ],
   "source": [
    "cloud.description"
   ]
  },
  {
   "cell_type": "code",
   "execution_count": 31,
   "metadata": {},
   "outputs": [
    {
     "name": "stdout",
     "output_type": "stream",
     "text": [
      "['__add__', '__class__', '__contains__', '__delattr__', '__delitem__', '__dir__', '__doc__', '__eq__', '__format__', '__ge__', '__getattribute__', '__getitem__', '__gt__', '__hash__', '__iadd__', '__imul__', '__init__', '__init_subclass__', '__iter__', '__le__', '__len__', '__lt__', '__mul__', '__ne__', '__new__', '__reduce__', '__reduce_ex__', '__repr__', '__reversed__', '__rmul__', '__setattr__', '__setitem__', '__sizeof__', '__str__', '__subclasshook__', 'append', 'clear', 'copy', 'count', 'extend', 'index', 'insert', 'pop', 'remove', 'reverse', 'sort']\n"
     ]
    }
   ],
   "source": [
    "print(dir(list))"
   ]
  },
  {
   "cell_type": "markdown",
   "metadata": {},
   "source": [
    "### 상속\n",
    "- 코드의 중복을 막을 수 있으며(재활용),\n",
    "- 상속을 받은 하위클래스의 공통적인 규약(메서드)을 만들기 위함(유지보수 용이, 통일성)\n",
    "\n",
    "- 상속을 받은 하위클래스(자식)를 만드는 이유는 객체(데이터)들의 고유한 특성(정보, 동작 등)을 다루기 위함\n",
    "\n",
    "### Method Override (덮어쓰기)\n",
    "- 자식 클래스 안에서\n",
    "- 부모 클래스에서 정의한 메서드를\n",
    "- 다른 동작을 하게끔 바꿀 수 있음\n",
    "- 이 경우, 부모 클래스의 메서드를 덮어버리며\n",
    "- 이를 메서드 오버라이드(method override)라고 한다."
   ]
  },
  {
   "cell_type": "code",
   "execution_count": 39,
   "metadata": {},
   "outputs": [],
   "source": [
    "class Parents:\n",
    "    father = \"Andrew\"\n",
    "    \n",
    "    def father_name(self):\n",
    "        print(self.father)\n",
    "        \n",
    "        \n",
    "class MySon(Parents):\n",
    "    description = \"귀여운 내 새끼\"\n",
    "    def __init__(self, name, age, kind, distinct, speak):\n",
    "        self.name = name\n",
    "        self.age = age\n",
    "        self.kind = kind\n",
    "        self.distinct = distinct\n",
    "        self.speak = speak\n",
    "        self.bark()\n",
    "        \n",
    "    def bark(self):\n",
    "        print(self.speak)\n",
    "    \n",
    "    def father_name(self):\n",
    "        print(\"{}의 아빠는 {}입니다.\".format(self.name, self.father))"
   ]
  },
  {
   "cell_type": "code",
   "execution_count": 40,
   "metadata": {},
   "outputs": [
    {
     "name": "stdout",
     "output_type": "stream",
     "text": [
      "멍멍\n",
      "낑낑\n",
      "야옹\n"
     ]
    }
   ],
   "source": [
    "bokgil = MySon(\"복길\", \"Unkown\", \"Unkown\", \"사람을 좋아함\", \"멍멍\")\n",
    "chapssal = MySon(\"찹쌀\", \"20day\", \"mix\", \"cute\", \"낑낑\")\n",
    "colud = MySon(\"구름\", \"6month\", \"mix\", \"very cute\", \"야옹\")"
   ]
  },
  {
   "cell_type": "code",
   "execution_count": 41,
   "metadata": {},
   "outputs": [
    {
     "name": "stdout",
     "output_type": "stream",
     "text": [
      "복길의 아빠는 Andrew입니다.\n",
      "찹쌀의 아빠는 Andrew입니다.\n",
      "구름의 아빠는 Andrew입니다.\n"
     ]
    }
   ],
   "source": [
    "bokgil.father_name()\n",
    "chapssal.father_name()\n",
    "colud.father_name()"
   ]
  },
  {
   "cell_type": "code",
   "execution_count": null,
   "metadata": {},
   "outputs": [],
   "source": []
  }
 ],
 "metadata": {
  "kernelspec": {
   "display_name": "Python 3",
   "language": "python",
   "name": "python3"
  },
  "language_info": {
   "codemirror_mode": {
    "name": "ipython",
    "version": 3
   },
   "file_extension": ".py",
   "mimetype": "text/x-python",
   "name": "python",
   "nbconvert_exporter": "python",
   "pygments_lexer": "ipython3",
   "version": "3.6.5"
  }
 },
 "nbformat": 4,
 "nbformat_minor": 2
}
