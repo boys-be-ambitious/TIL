{
 "cells": [
  {
   "cell_type": "markdown",
   "metadata": {},
   "source": [
    "지현아, 결혼 축하해. 결혼이란 것을 한 번도 해본 적이 없어서 자세한 것은 잘 모르지만, 결혼이라는 것은 연애의 연장선이지 않을까? \n",
    "\n",
    "결혼도 연애처럼 좋을 때는 아주 좋을 거야. 연애에서 별로 좋지 않을 때는 나는 늘 뭔가 딴생각을 떠올리려 해. 그렇지만 좋을 때는 아주 좋지. 좋을 때가 많기를 기원할게. 시작한 두 사람의 인연 앞으로도 잘 이어나갔으면 좋겠다. 행복하기를 바랄게 :)\n",
    "\n",
    "<백 년> - 이병률 <br>\n",
    "백 년을 만날게요 <br>\n",
    "십 년은 내가 다 줄게요 <br>\n",
    "이십 년은 오로지 가늠할게요 <br>\n",
    "삼십 년은 당신하고 다닐래요 <br>\n",
    "사십 년은 당신을 위해 하늘을 살게요 <br>\n",
    "오십 년은 그 하늘에 씨를 뿌릴게요 <br>\n",
    "육십 년은 눈 녹여 술을 담글게요 <br>\n",
    "칠십 년은 당신 이마에 자주 손을 올릴게요 <br>\n",
    "팔십 년은 당신하고 눈이 멀게요 <br>\n",
    "구십 년엔 나도 조금 아플게요 <br>\n",
    "백 년 지나고 백 년을 한 번이라 칠 수 있다면 <br>\n",
    "그럴 수 있다면 당신을 보낼게요 <br>"
   ]
  },
  {
   "cell_type": "code",
   "execution_count": null,
   "metadata": {},
   "outputs": [],
   "source": []
  }
 ],
 "metadata": {
  "kernelspec": {
   "display_name": "Python 3",
   "language": "python",
   "name": "python3"
  },
  "language_info": {
   "codemirror_mode": {
    "name": "ipython",
    "version": 3
   },
   "file_extension": ".py",
   "mimetype": "text/x-python",
   "name": "python",
   "nbconvert_exporter": "python",
   "pygments_lexer": "ipython3",
   "version": "3.6.5"
  }
 },
 "nbformat": 4,
 "nbformat_minor": 2
}
