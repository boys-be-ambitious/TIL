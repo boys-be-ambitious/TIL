{
 "cells": [
  {
   "cell_type": "code",
   "execution_count": 1,
   "metadata": {},
   "outputs": [],
   "source": [
    "import numpy as np\n",
    "import pandas as pd\n",
    "import plotly as plt\n",
    "import plotnine as p9\n",
    "from pandasql import sqldf\n",
    "\n",
    "pysqldf = lambda q: sqldf(q, globals())\n",
    "%matplotlib inline"
   ]
  },
  {
   "cell_type": "code",
   "execution_count": 2,
   "metadata": {},
   "outputs": [],
   "source": [
    "hos = pd.read_excel(\"../../Downloads/localdata/hospital.xlsx\")\n",
    "cli = pd.read_excel(\"../../Downloads/localdata/clinic.xlsx\")\n",
    "pha = pd.read_excel(\"../../Downloads/localdata/pharmacy.xlsx\")\n",
    "pcw = pd.read_excel(\"../../Downloads/localdata/postpartum_care_worker.xlsx\")"
   ]
  },
  {
   "cell_type": "code",
   "execution_count": 3,
   "metadata": {
    "scrolled": true
   },
   "outputs": [
    {
     "name": "stdout",
     "output_type": "stream",
     "text": [
      "(5774, 44)\n",
      "영업/정상             3863\n",
      "폐업                1720\n",
      "취소/말소/만료/정지/중지     118\n",
      "휴업                  73\n",
      "Name: 영업상태명, dtype: int64\n",
      "Index(['번호', '개방서비스명', '개방서비스ID', '개방자치단체코드', '관리번호', '인허가일자', '인허가취소일자',\n",
      "       '영업상태구분코드', '영업상태명', '상세영업상태코드', '상세영업상태명', '폐업일자', '휴업시작일자', '휴업종료일자',\n",
      "       '재개업일자', '소재지전화', '소재지면적', '소재지우편번호', '소재지전체주소', '도로명전체주소', '도로명우편번호',\n",
      "       '사업장명', '최종수정시점', '데이터갱신구분', '데이터갱신일자', '업태구분명', '좌표정보(X)', '좌표정보(Y)',\n",
      "       '의료기관종별명', '의료인수', '입원실수', '병상수', '총면적', '진료과목내용', '진료과목내용명', '지정취소일자',\n",
      "       '완화의료지정형태', '완화의료담당부서명', '구급차특수', '구급차일반', '총인원', '구조사수', '허가병상수',\n",
      "       '최초지정일자'],\n",
      "      dtype='object')\n",
      "====================================================================================================\n",
      "(103383, 44)\n",
      "영업/정상             67139\n",
      "폐업                35714\n",
      "취소/말소/만료/정지/중지      388\n",
      "휴업                  142\n",
      "Name: 영업상태명, dtype: int64\n",
      "Index(['번호', '개방서비스명', '개방서비스ID', '개방자치단체코드', '관리번호', '인허가일자', '인허가취소일자',\n",
      "       '영업상태구분코드', '영업상태명', '상세영업상태코드', '상세영업상태명', '폐업일자', '휴업시작일자', '휴업종료일자',\n",
      "       '재개업일자', '소재지전화', '소재지면적', '소재지우편번호', '소재지전체주소', '도로명전체주소', '도로명우편번호',\n",
      "       '사업장명', '최종수정시점', '데이터갱신구분', '데이터갱신일자', '업태구분명', '좌표정보(X)', '좌표정보(Y)',\n",
      "       '의료기관종별명', '의료인수', '입원실수', '병상수', '총면적', '진료과목내용', '진료과목내용명', '지정취소일자',\n",
      "       '완화의료지정형태', '완화의료담당부서명', '구급차특수', '구급차일반', '총인원', '구조사수', '허가병상수',\n",
      "       '최초지정일자'],\n",
      "      dtype='object')\n",
      "====================================================================================================\n",
      "(60026, 30)\n",
      "폐업                37258\n",
      "영업/정상             22577\n",
      "취소/말소/만료/정지/중지      154\n",
      "휴업                   37\n",
      "Name: 영업상태명, dtype: int64\n",
      "Index(['번호', '개방서비스명', '개방서비스ID', '개방자치단체코드', '관리번호', '인허가일자', '인허가취소일자',\n",
      "       '영업상태구분코드', '영업상태명', '상세영업상태코드', '상세영업상태명', '폐업일자', '휴업시작일자', '휴업종료일자',\n",
      "       '재개업일자', '소재지전화', '소재지면적', '소재지우편번호', '소재지전체주소', '도로명전체주소', '도로명우편번호',\n",
      "       '사업장명', '최종수정시점', '데이터갱신구분', '데이터갱신일자', '업태구분명', '좌표정보(X)', '좌표정보(Y)',\n",
      "       '약국영업면적', '지정일자'],\n",
      "      dtype='object')\n",
      "====================================================================================================\n",
      "(904, 47)\n",
      "영업/정상             564\n",
      "폐업                316\n",
      "휴업                 23\n",
      "취소/말소/만료/정지/중지      1\n",
      "Name: 영업상태명, dtype: int64\n",
      "Index(['번호', '개방서비스명', '개방서비스ID', '개방자치단체코드', '관리번호', '인허가일자', '인허가취소일자',\n",
      "       '영업상태구분코드', '영업상태명', '상세영업상태코드', '상세영업상태명', '폐업일자', '휴업시작일자', '휴업종료일자',\n",
      "       '재개업일자', '소재지전화', '소재지면적', '소재지우편번호', '소재지전체주소', '도로명전체주소', '도로명우편번호',\n",
      "       '사업장명', '최종수정시점', '데이터갱신구분', '데이터갱신일자', '업태구분명', '좌표정보(X)', '좌표정보(Y)',\n",
      "       '임산부정원수', '영유아정원수', '임산부실면적', '영유아실면적', '모유수유실면적', '급식시설면적', '세탁실면적',\n",
      "       '목욕실면적', '조리원화장실면적', '사무실면적', '간호사수', '간호조무사수', '영양사수', '취사부수', '미화원수',\n",
      "       '기타인원수', '건물층수', '지상층수', '지하층수'],\n",
      "      dtype='object')\n",
      "====================================================================================================\n"
     ]
    }
   ],
   "source": [
    "elements = [hos, cli, pha, pcw]\n",
    "\n",
    "[el.shape for el in elements]\n",
    "\n",
    "for el in elements:\n",
    "    print(el.shape)\n",
    "    print(el['영업상태명'].value_counts())\n",
    "    print(el.columns)\n",
    "    print(\"=\" * 100)"
   ]
  },
  {
   "cell_type": "markdown",
   "metadata": {},
   "source": [
    "### 영업 상태 현황 1 : 병원"
   ]
  },
  {
   "cell_type": "code",
   "execution_count": 22,
   "metadata": {},
   "outputs": [
    {
     "data": {
      "text/html": [
       "<div>\n",
       "<style scoped>\n",
       "    .dataframe tbody tr th:only-of-type {\n",
       "        vertical-align: middle;\n",
       "    }\n",
       "\n",
       "    .dataframe tbody tr th {\n",
       "        vertical-align: top;\n",
       "    }\n",
       "\n",
       "    .dataframe thead th {\n",
       "        text-align: right;\n",
       "    }\n",
       "</style>\n",
       "<table border=\"1\" class=\"dataframe\">\n",
       "  <thead>\n",
       "    <tr style=\"text-align: right;\">\n",
       "      <th></th>\n",
       "      <th>영업상태명</th>\n",
       "      <th>freq</th>\n",
       "      <th>prob</th>\n",
       "    </tr>\n",
       "  </thead>\n",
       "  <tbody>\n",
       "    <tr>\n",
       "      <th>0</th>\n",
       "      <td>영업/정상</td>\n",
       "      <td>3863</td>\n",
       "      <td>66.9</td>\n",
       "    </tr>\n",
       "    <tr>\n",
       "      <th>1</th>\n",
       "      <td>취소/말소/만료/정지/중지</td>\n",
       "      <td>118</td>\n",
       "      <td>2.0</td>\n",
       "    </tr>\n",
       "    <tr>\n",
       "      <th>2</th>\n",
       "      <td>폐업</td>\n",
       "      <td>1720</td>\n",
       "      <td>29.8</td>\n",
       "    </tr>\n",
       "    <tr>\n",
       "      <th>3</th>\n",
       "      <td>휴업</td>\n",
       "      <td>73</td>\n",
       "      <td>1.3</td>\n",
       "    </tr>\n",
       "  </tbody>\n",
       "</table>\n",
       "</div>"
      ],
      "text/plain": [
       "            영업상태명  freq  prob\n",
       "0           영업/정상  3863  66.9\n",
       "1  취소/말소/만료/정지/중지   118   2.0\n",
       "2              폐업  1720  29.8\n",
       "3              휴업    73   1.3"
      ]
     },
     "execution_count": 22,
     "metadata": {},
     "output_type": "execute_result"
    }
   ],
   "source": [
    "pysqldf(\"select \\\n",
    "    영업상태명 \\\n",
    "    , freq \\\n",
    "    , round(100. * freq/tot_freq, 1) as prob \\\n",
    "from ( \\\n",
    "    select \\\n",
    "        영업상태명 \\\n",
    "        , count(*) as freq \\\n",
    "    from hos \\\n",
    "    group by 영업상태명 \\\n",
    "    ) as a, ( \\\n",
    "    select \\\n",
    "        count(*) as tot_freq \\\n",
    "    from hos \\\n",
    "    ) as b;\")\n",
    "    "
   ]
  },
  {
   "cell_type": "markdown",
   "metadata": {},
   "source": [
    "### 영업 상태 현황 2 : 의원"
   ]
  },
  {
   "cell_type": "code",
   "execution_count": 23,
   "metadata": {},
   "outputs": [
    {
     "data": {
      "text/html": [
       "<div>\n",
       "<style scoped>\n",
       "    .dataframe tbody tr th:only-of-type {\n",
       "        vertical-align: middle;\n",
       "    }\n",
       "\n",
       "    .dataframe tbody tr th {\n",
       "        vertical-align: top;\n",
       "    }\n",
       "\n",
       "    .dataframe thead th {\n",
       "        text-align: right;\n",
       "    }\n",
       "</style>\n",
       "<table border=\"1\" class=\"dataframe\">\n",
       "  <thead>\n",
       "    <tr style=\"text-align: right;\">\n",
       "      <th></th>\n",
       "      <th>영업상태명</th>\n",
       "      <th>freq</th>\n",
       "      <th>prob</th>\n",
       "    </tr>\n",
       "  </thead>\n",
       "  <tbody>\n",
       "    <tr>\n",
       "      <th>0</th>\n",
       "      <td>영업/정상</td>\n",
       "      <td>67139</td>\n",
       "      <td>64.9</td>\n",
       "    </tr>\n",
       "    <tr>\n",
       "      <th>1</th>\n",
       "      <td>취소/말소/만료/정지/중지</td>\n",
       "      <td>388</td>\n",
       "      <td>0.4</td>\n",
       "    </tr>\n",
       "    <tr>\n",
       "      <th>2</th>\n",
       "      <td>폐업</td>\n",
       "      <td>35714</td>\n",
       "      <td>34.5</td>\n",
       "    </tr>\n",
       "    <tr>\n",
       "      <th>3</th>\n",
       "      <td>휴업</td>\n",
       "      <td>142</td>\n",
       "      <td>0.1</td>\n",
       "    </tr>\n",
       "  </tbody>\n",
       "</table>\n",
       "</div>"
      ],
      "text/plain": [
       "            영업상태명   freq  prob\n",
       "0           영업/정상  67139  64.9\n",
       "1  취소/말소/만료/정지/중지    388   0.4\n",
       "2              폐업  35714  34.5\n",
       "3              휴업    142   0.1"
      ]
     },
     "execution_count": 23,
     "metadata": {},
     "output_type": "execute_result"
    }
   ],
   "source": [
    "pysqldf(\"select \\\n",
    "    영업상태명 \\\n",
    "    , freq \\\n",
    "    , round(100. * freq/tot_freq, 1) as prob \\\n",
    "from ( \\\n",
    "    select \\\n",
    "        영업상태명 \\\n",
    "        , count(*) as freq \\\n",
    "    from cli \\\n",
    "    group by 영업상태명 \\\n",
    "    ) as a, ( \\\n",
    "    select \\\n",
    "        count(*) as tot_freq \\\n",
    "    from cli \\\n",
    "    ) as b;\")\n",
    "    "
   ]
  },
  {
   "cell_type": "markdown",
   "metadata": {},
   "source": [
    "### 영업 상태 현황 3 : 약국"
   ]
  },
  {
   "cell_type": "code",
   "execution_count": 24,
   "metadata": {},
   "outputs": [
    {
     "data": {
      "text/html": [
       "<div>\n",
       "<style scoped>\n",
       "    .dataframe tbody tr th:only-of-type {\n",
       "        vertical-align: middle;\n",
       "    }\n",
       "\n",
       "    .dataframe tbody tr th {\n",
       "        vertical-align: top;\n",
       "    }\n",
       "\n",
       "    .dataframe thead th {\n",
       "        text-align: right;\n",
       "    }\n",
       "</style>\n",
       "<table border=\"1\" class=\"dataframe\">\n",
       "  <thead>\n",
       "    <tr style=\"text-align: right;\">\n",
       "      <th></th>\n",
       "      <th>영업상태명</th>\n",
       "      <th>freq</th>\n",
       "      <th>prob</th>\n",
       "    </tr>\n",
       "  </thead>\n",
       "  <tbody>\n",
       "    <tr>\n",
       "      <th>0</th>\n",
       "      <td>영업/정상</td>\n",
       "      <td>22577</td>\n",
       "      <td>37.6</td>\n",
       "    </tr>\n",
       "    <tr>\n",
       "      <th>1</th>\n",
       "      <td>취소/말소/만료/정지/중지</td>\n",
       "      <td>154</td>\n",
       "      <td>0.3</td>\n",
       "    </tr>\n",
       "    <tr>\n",
       "      <th>2</th>\n",
       "      <td>폐업</td>\n",
       "      <td>37258</td>\n",
       "      <td>62.1</td>\n",
       "    </tr>\n",
       "    <tr>\n",
       "      <th>3</th>\n",
       "      <td>휴업</td>\n",
       "      <td>37</td>\n",
       "      <td>0.1</td>\n",
       "    </tr>\n",
       "  </tbody>\n",
       "</table>\n",
       "</div>"
      ],
      "text/plain": [
       "            영업상태명   freq  prob\n",
       "0           영업/정상  22577  37.6\n",
       "1  취소/말소/만료/정지/중지    154   0.3\n",
       "2              폐업  37258  62.1\n",
       "3              휴업     37   0.1"
      ]
     },
     "execution_count": 24,
     "metadata": {},
     "output_type": "execute_result"
    }
   ],
   "source": [
    "pysqldf(\"select \\\n",
    "    영업상태명 \\\n",
    "    , freq\\\n",
    "    , round(100. * freq/tot_freq, 1) as prob \\\n",
    "from ( \\\n",
    "    select \\\n",
    "        영업상태명 \\\n",
    "        , count(*) as freq \\\n",
    "    from pha \\\n",
    "    group by 영업상태명 \\\n",
    "    ) as a, ( \\\n",
    "    select \\\n",
    "        count(*) as tot_freq \\\n",
    "    from pha \\\n",
    "    ) as b;\")\n"
   ]
  },
  {
   "cell_type": "markdown",
   "metadata": {},
   "source": [
    "### 영업 상태 현황 4 : 산후조리원"
   ]
  },
  {
   "cell_type": "code",
   "execution_count": 25,
   "metadata": {},
   "outputs": [
    {
     "data": {
      "text/html": [
       "<div>\n",
       "<style scoped>\n",
       "    .dataframe tbody tr th:only-of-type {\n",
       "        vertical-align: middle;\n",
       "    }\n",
       "\n",
       "    .dataframe tbody tr th {\n",
       "        vertical-align: top;\n",
       "    }\n",
       "\n",
       "    .dataframe thead th {\n",
       "        text-align: right;\n",
       "    }\n",
       "</style>\n",
       "<table border=\"1\" class=\"dataframe\">\n",
       "  <thead>\n",
       "    <tr style=\"text-align: right;\">\n",
       "      <th></th>\n",
       "      <th>영업상태명</th>\n",
       "      <th>freq</th>\n",
       "      <th>prob</th>\n",
       "    </tr>\n",
       "  </thead>\n",
       "  <tbody>\n",
       "    <tr>\n",
       "      <th>0</th>\n",
       "      <td>영업/정상</td>\n",
       "      <td>564</td>\n",
       "      <td>62.4</td>\n",
       "    </tr>\n",
       "    <tr>\n",
       "      <th>1</th>\n",
       "      <td>취소/말소/만료/정지/중지</td>\n",
       "      <td>1</td>\n",
       "      <td>0.1</td>\n",
       "    </tr>\n",
       "    <tr>\n",
       "      <th>2</th>\n",
       "      <td>폐업</td>\n",
       "      <td>316</td>\n",
       "      <td>35.0</td>\n",
       "    </tr>\n",
       "    <tr>\n",
       "      <th>3</th>\n",
       "      <td>휴업</td>\n",
       "      <td>23</td>\n",
       "      <td>2.5</td>\n",
       "    </tr>\n",
       "  </tbody>\n",
       "</table>\n",
       "</div>"
      ],
      "text/plain": [
       "            영업상태명  freq  prob\n",
       "0           영업/정상   564  62.4\n",
       "1  취소/말소/만료/정지/중지     1   0.1\n",
       "2              폐업   316  35.0\n",
       "3              휴업    23   2.5"
      ]
     },
     "execution_count": 25,
     "metadata": {},
     "output_type": "execute_result"
    }
   ],
   "source": [
    "pysqldf(\"select \\\n",
    "    영업상태명 \\\n",
    "    , freq \\\n",
    "    , round(100. * freq/tot_freq, 1) as prob \\\n",
    "from ( \\\n",
    "    select \\\n",
    "        영업상태명 \\\n",
    "        , count(*) as freq \\\n",
    "    from pcw \\\n",
    "    group by 영업상태명 \\\n",
    "    ) as a, ( \\\n",
    "    select \\\n",
    "        count(*) as tot_freq \\\n",
    "    from pcw \\\n",
    "    ) as b;\")\n",
    "    "
   ]
  },
  {
   "cell_type": "markdown",
   "metadata": {},
   "source": [
    "## Summary 1\n",
    "- 병원 : 전체 5,744개의 병원 중 정상 영업중인 병원은 3,863개 (67.3%), 폐업한 병원은 1,720개 (29.9%)\n",
    "- 의원 : 전체 103,383개의 의원 중 정상 영업중인 병원은 67,139개 (64.9%), 폐업한 병원은 35,714개 (34.5%)\n",
    "- 약국 : 전체 60,026개의 약국 중 정상 영업중인 약국은 22,577개 (37.6%), 폐업한 약국은 37,258개 (62.1%)\n",
    "- 산후조리원 : 전체 904개의 산후조리원 중 정상 영업중인 조리원은 564개 (62.4%), 폐업한 조리원은 316개 (35%)"
   ]
  },
  {
   "cell_type": "code",
   "execution_count": null,
   "metadata": {},
   "outputs": [],
   "source": []
  },
  {
   "cell_type": "code",
   "execution_count": null,
   "metadata": {},
   "outputs": [],
   "source": []
  },
  {
   "cell_type": "markdown",
   "metadata": {},
   "source": [
    "1. SQL Report (ratio) ... 업종별 현황 ... 추후에는 추이도 파악하고 싶음\n",
    "2. 평균 영업 기간 (영업중인 영업점, 폐업한 영업점, 휴업한 영업접)\n",
    "3. 시각화\n",
    "4. 지역별 현황\n",
    "5. 지역별 업종별 현황\n",
    "6. 지도 시각화"
   ]
  },
  {
   "cell_type": "code",
   "execution_count": null,
   "metadata": {},
   "outputs": [],
   "source": []
  },
  {
   "cell_type": "code",
   "execution_count": null,
   "metadata": {},
   "outputs": [],
   "source": []
  }
 ],
 "metadata": {
  "kernelspec": {
   "display_name": "Python 3",
   "language": "python",
   "name": "python3"
  },
  "language_info": {
   "codemirror_mode": {
    "name": "ipython",
    "version": 3
   },
   "file_extension": ".py",
   "mimetype": "text/x-python",
   "name": "python",
   "nbconvert_exporter": "python",
   "pygments_lexer": "ipython3",
   "version": "3.6.5"
  }
 },
 "nbformat": 4,
 "nbformat_minor": 2
}
