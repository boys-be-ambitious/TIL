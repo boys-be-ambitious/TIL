{
 "cells": [
  {
   "cell_type": "markdown",
   "metadata": {},
   "source": [
    "# dees_1_1\n",
    "\n",
    "## 용어의 이해\n",
    "### 데이터 엔지니어\n",
    "- 데이터를 잘 쌓고, 분석가들이 인사이트를 찾을 수 있도록 데이터를 제공해주는 역할\n",
    "- 잘 정제해야 분석\n",
    "\n",
    "---\n",
    "\n",
    "## 목적\n",
    "### 네트워크 이해\n",
    "- VPC : 하나하나의 층\n",
    "- Subnet : 방 (Server)\n",
    "- 인터넷 게이트웨이 : 연결통로 (각 층?)\n",
    "- 라우터 테이블 : 어디로 가야하는지 지시(설정)\n",
    "\n",
    "---\n",
    "\n"
   ]
  },
  {
   "cell_type": "code",
   "execution_count": null,
   "metadata": {},
   "outputs": [],
   "source": []
  }
 ],
 "metadata": {
  "kernelspec": {
   "display_name": "Python 3",
   "language": "python",
   "name": "python3"
  },
  "language_info": {
   "codemirror_mode": {
    "name": "ipython",
    "version": 3
   },
   "file_extension": ".py",
   "mimetype": "text/x-python",
   "name": "python",
   "nbconvert_exporter": "python",
   "pygments_lexer": "ipython3",
   "version": "3.6.5"
  }
 },
 "nbformat": 4,
 "nbformat_minor": 2
}
